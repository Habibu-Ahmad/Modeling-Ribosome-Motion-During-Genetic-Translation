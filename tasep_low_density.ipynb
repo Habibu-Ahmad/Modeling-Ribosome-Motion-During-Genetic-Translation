{
  "nbformat": 4,
  "nbformat_minor": 0,
  "metadata": {
    "colab": {
      "provenance": []
    },
    "kernelspec": {
      "name": "python3",
      "display_name": "Python 3"
    },
    "language_info": {
      "name": "python"
    }
  },
  "cells": [
    {
      "cell_type": "code",
      "source": [
        "##Low density\n",
        "\n",
        "import matplotlib.pyplot as plt\n",
        "import numpy as np\n",
        "\n",
        "def step(state, alpha, beta):\n",
        "\n",
        "    \"\"\"\n",
        "    Perform one step of the TASEP simulation.\n",
        "\n",
        "    Args:\n",
        "        state (np.array): Current state of the lattice.\n",
        "        alpha (float): Entry rate at the left boundary.\n",
        "        beta (float): Exit rate at the right boundary.\n",
        "\n",
        "    Returns:\n",
        "        np.array: Updated state of the lattice.\n",
        "    \"\"\"\n",
        "\n",
        "    L = len(state)\n",
        "    x = np.random.choice(L)\n",
        "    if x == 0:\n",
        "        if state[x] == 0 and np.random.random() <= alpha:\n",
        "            state[x] = 1\n",
        "        elif state[x] == 1 and state[x + 1] == 0:\n",
        "            state[x] = 0\n",
        "            state[x + 1] = 1\n",
        "    elif x == L - 1:\n",
        "        if np.random.random() <= beta:\n",
        "            state[L - 1] = 0\n",
        "    else:\n",
        "        if state[x] == 1 and state[x + 1] == 0:\n",
        "            state[x] = 0\n",
        "            state[x + 1] = 1\n",
        "    return state\n",
        "\n",
        "def run(L, alpha, beta, Nmax, Ninit):\n",
        "\n",
        "\n",
        "    \"\"\"\n",
        "    Run the TASEP simulation.\n",
        "\n",
        "    Args:\n",
        "        L (int): Length of the lattice.\n",
        "        alpha (float): Entry rate at the left boundary.\n",
        "        beta (float): Exit rate at the right boundary.\n",
        "        Nmax (int): Total number of steps.\n",
        "        Ninit (int): Number of steps to skip before measuring.\n",
        "\n",
        "    Returns:\n",
        "        np.array: Average density profile.\n",
        "    \"\"\"\n",
        "    state = np.zeros(L, dtype=\"int\")\n",
        "    n = 0\n",
        "    rho = np.zeros(L)\n",
        "    rhocnt = 0\n",
        "    while n < Nmax:\n",
        "        state = step(state, alpha, beta)\n",
        "        if n > Ninit:\n",
        "            rho = rho + state\n",
        "            rhocnt += 1\n",
        "        n += 1\n",
        "    return rho / rhocnt\n",
        "\n",
        "L = 100\n",
        "Nmax = 2000000 * L\n",
        "Ninit = 100000 * L\n",
        "alpha1 = 0.3  # Adjusted value for alpha\n",
        "beta1 = 0.6   # Adjusted value for beta\n",
        "rho1 = run(L, alpha1, beta1, Nmax, Ninit)\n",
        "\n",
        "plt.figure()\n",
        "plt.plot(range(L), rho1, label='alpha={:.2f} beta={:.2f}'.format(alpha1, beta1))\n",
        "plt.ylim((0, 1))\n",
        "plt.xlim(0, 100)\n",
        "plt.xlabel(r'$x$')\n",
        "plt.ylabel(r'$\\rho(x)$')\n",
        "plt.legend()\n",
        "plt.show()"
      ],
      "metadata": {
        "colab": {
          "base_uri": "https://localhost:8080/",
          "height": 455
        },
        "id": "OuqqxFOXxgT8",
        "outputId": "f0d88004-a836-459b-e797-e040867cd960"
      },
      "execution_count": 2,
      "outputs": [
        {
          "output_type": "display_data",
          "data": {
            "text/plain": [
              "<Figure size 640x480 with 1 Axes>"
            ],
            "image/png": "[encoded data removed]"
          },
          "metadata": {}
        }
      ]
    }
  ]
}