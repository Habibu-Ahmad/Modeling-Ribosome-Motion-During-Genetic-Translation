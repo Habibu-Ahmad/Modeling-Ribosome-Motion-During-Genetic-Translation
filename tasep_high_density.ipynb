{
  "nbformat": 4,
  "nbformat_minor": 0,
  "metadata": {
    "colab": {
      "provenance": [],
      "authorship_tag": "ABX9TyO8ql0vTuXBM6GJmGejQKOr",
      "include_colab_link": true
    },
    "kernelspec": {
      "name": "python3",
      "display_name": "Python 3"
    },
    "language_info": {
      "name": "python"
    }
  },
  "cells": [
    {
      "cell_type": "markdown",
      "metadata": {
        "id": "view-in-github",
        "colab_type": "text"
      },
      "source": [
        "<a href=\"https://colab.research.google.com/github/Habibu-Ahmad/TASEP-simulation/blob/main/tasep_high_density.ipynb\" target=\"_parent\"><img src=\"https://colab.research.google.com/assets/colab-badge.svg\" alt=\"Open In Colab\"/></a>"
      ]
    },
    {
      "cell_type": "code",
      "execution_count": null,
      "metadata": {
        "id": "PL18emDuR04B"
      },
      "outputs": [],
      "source": [
        "# TASEP (Totally Asymmetric Simple Exclusion Process) Simulation\n",
        "# High-Density Phase\n",
        "\n",
        "import matplotlib.pyplot as plt\n",
        "import numpy as np\n",
        "\n",
        "def step(state, alpha, beta):\n",
        "    \"\"\"\n",
        "    Perform one step of the TASEP simulation.\n",
        "\n",
        "    Args:\n",
        "        state (np.array): Current state of the lattice.\n",
        "        alpha (float): Entry rate at the left boundary.\n",
        "        beta (float): Exit rate at the right boundary.\n",
        "\n",
        "    Returns:\n",
        "        np.array: Updated state of the lattice.\n",
        "    \"\"\"\n",
        "    L = len(state)\n",
        "    x = np.random.choice(L)  # Randomly select a site\n",
        "\n",
        "    if x == 0:  # Left boundary\n",
        "        if state[x] == 0 and np.random.random() <= alpha:\n",
        "            state[x] = 1  # Particle enters\n",
        "        elif state[x] == 1 and state[x + 1] == 0:\n",
        "            state[x] = 0  # Particle moves right\n",
        "            state[x + 1] = 1\n",
        "    elif x == L - 1:  # Right boundary\n",
        "        if np.random.random() <= beta:\n",
        "            state[L - 1] = 0  # Particle exits\n",
        "    else:  # Bulk\n",
        "        if state[x] == 1 and state[x + 1] == 0:\n",
        "            state[x] = 0  # Particle moves right\n",
        "            state[x + 1] = 1\n",
        "    return state\n",
        "\n",
        "def run_simulation(L, alpha, beta, Nmax, Ninit):\n",
        "    \"\"\"\n",
        "    Run the TASEP simulation.\n",
        "\n",
        "    Args:\n",
        "        L (int): Length of the lattice.\n",
        "        alpha (float): Entry rate at the left boundary.\n",
        "        beta (float): Exit rate at the right boundary.\n",
        "        Nmax (int): Total number of steps.\n",
        "        Ninit (int): Number of steps to skip before measuring.\n",
        "\n",
        "    Returns:\n",
        "        np.array: Average density profile.\n",
        "    \"\"\"\n",
        "    state = np.zeros(L, dtype=int)  # Initialize lattice\n",
        "    rho = np.zeros(L)  # Density profile\n",
        "    rhocnt = 0  # Counter for averaging\n",
        "\n",
        "    for n in range(Nmax):\n",
        "        state = step(state, alpha, beta)\n",
        "        if n > Ninit:  # Start measuring after Ninit steps\n",
        "            rho += state\n",
        "            rhocnt += 1\n",
        "    return rho / rhocnt  # Return average density\n",
        "\n",
        "# Parameters\n",
        "L = 100  # Lattice size\n",
        "Nmax = 2000000 * L  # Total steps\n",
        "Ninit = 100000 * L  # Initial steps to skip\n",
        "alpha1 = 0.6  # Entry rate\n",
        "beta1 = 0.2  # Exit rate\n",
        "\n",
        "# Run simulation\n",
        "rho1 = run_simulation(L, alpha1, beta1, Nmax, Ninit)\n",
        "\n",
        "# Plot results\n",
        "plt.figure()\n",
        "plt.plot(range(L), rho1, label=f'alpha={alpha1:.2f} beta={beta1:.2f}')\n",
        "plt.ylim((0, 1))\n",
        "plt.xlim(0, L)\n",
        "plt.xlabel(r'$x$')\n",
        "plt.ylabel(r'$\\rho(x)$')\n",
        "plt.legend()\n",
        "plt.title('TASEP Density Profile')\n",
        "plt.show()"
      ]
    }
  ]
}